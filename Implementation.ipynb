{
 "cells": [
  {
   "cell_type": "code",
   "execution_count": 56,
   "metadata": {},
   "outputs": [],
   "source": [
    "# Initializing spark\n",
    "import findspark\n",
    "findspark.init(\"/u/cs451/packages/spark\")"
   ]
  },
  {
   "cell_type": "code",
   "execution_count": 73,
   "metadata": {},
   "outputs": [],
   "source": [
    "# Creating a spark session\n",
    "from pyspark.sql import SparkSession\n",
    "import random\n",
    "spark = SparkSession.builder.appName(\"Project\").master(\"local[3]\").config('spark.ui.port', random.randrange(4000,5000)).getOrCreate()"
   ]
  },
  {
   "cell_type": "code",
   "execution_count": 248,
   "metadata": {},
   "outputs": [],
   "source": [
    "# Importing the required libraries\n",
    "from pyspark.sql.functions import udf, col, regexp_replace, month\n",
    "from pyspark.ml.feature import Tokenizer, StopWordsRemover\n",
    "import matplotlib.pyplot as plt\n",
    "from nltk.stem.snowball import SnowballStemmer\n",
    "from pyspark.ml.feature import NGram\n",
    "from pyspark.sql.functions import explode\n",
    "from pyspark.sql.types import StringType, ArrayType, FloatType\n",
    "import pandas as pd\n"
   ]
  },
  {
   "cell_type": "markdown",
   "metadata": {},
   "source": [
    "# Cleaning the tweets's text"
   ]
  },
  {
   "cell_type": "code",
   "execution_count": 59,
   "metadata": {},
   "outputs": [],
   "source": [
    "# Reading the tweets csv file\n",
    "tweets_raw = spark.read.csv('tweets.csv', header=True, inferSchema=True, multiLine=True, encoding=\"UTF-8\", sep=',', quote='\"',escape='\"')"
   ]
  },
  {
   "cell_type": "code",
   "execution_count": 401,
   "metadata": {},
   "outputs": [],
   "source": [
    "# Cleaning the text\n",
    "\n",
    "# Using regexp to keep digits, letters, and certain symbols only\n",
    "text_raw = tweets_raw.select('handle', 'text', (regexp_replace('text', \"(&amp)+|(@[A-Za-z0-9]+)|(#[A-Za-z0-9]+)|([^0-9A-Za-z \\t'])|(\\w+:\\/\\/\\S+)\", \"\")).alias('text_clean'), 'is_retweet', 'original_author', month('time').alias('month') , 'lang', 'retweet_count', 'favorite_count')\n",
    "\n",
    "# Tokenization\n",
    "# Defining the initializer\n",
    "tokenizer = Tokenizer(inputCol='text_clean', outputCol='words')\n",
    "# Applying the tokenizer on the text\n",
    "tokenized  = tokenizer.transform(text_raw)\n",
    "\n",
    "# Removing the stop words\n",
    "sw_remover = StopWordsRemover(inputCol='words', outputCol='words_no_sw')\n",
    "sw_removed = sw_remover.transform(tokenized)\n",
    "\n",
    "# Filter length word < 2\n",
    "filter_length_udf = udf(lambda row: [x for x in row if len(x) > 2], ArrayType(StringType()))\n",
    "clean_text = sw_removed.withColumn('words_clean', filter_length_udf(col('words_no_sw')))\n",
    "\n",
    "# Stemming thet text\n",
    "stemmer = SnowballStemmer(language='english')\n",
    "stemmer_udf = udf(lambda tokens: [stemmer.stem(token) for token in tokens], ArrayType(StringType()))\n",
    "clean_text = clean_text.withColumn('words_stem', stemmer_udf(\"words_clean\"))\n",
    "\n",
    "# Checking if the text is clean and keeping the english tweets only\n",
    "clean_text = clean_text.filter(\"lang = 'en'\").select('handle', 'text', 'words_clean', 'words_stem', 'is_retweet', 'original_author', 'month', 'retweet_count', 'favorite_count')"
   ]
  },
  {
   "cell_type": "code",
   "execution_count": 402,
   "metadata": {},
   "outputs": [
    {
     "data": {
      "text/plain": [
       "DataFrame[handle: string, text: string, words_clean: array<string>, words_stem: array<string>, is_retweet: boolean, original_author: string, month: int, retweet_count: int, favorite_count: int]"
      ]
     },
     "execution_count": 402,
     "metadata": {},
     "output_type": "execute_result"
    }
   ],
   "source": [
    "# The schema\n",
    "clean_text"
   ]
  },
  {
   "cell_type": "code",
   "execution_count": 336,
   "metadata": {},
   "outputs": [
    {
     "name": "stdout",
     "output_type": "stream",
     "text": [
      "+---------------+--------------------+--------------------+--------------------+----------+---------------+-----+-------------+--------------+\n",
      "|         handle|                text|         words_clean|          words_stem|is_retweet|original_author|month|retweet_count|favorite_count|\n",
      "+---------------+--------------------+--------------------+--------------------+----------+---------------+-----+-------------+--------------+\n",
      "| HillaryClinton|The question in t...|[question, electi...|[question, elect,...|     false|           null|    9|          218|           651|\n",
      "| HillaryClinton|Last night, Donal...|[last, night, don...|[last, night, don...|      true|       timkaine|    9|         2445|          5308|\n",
      "| HillaryClinton|Couldn't be more ...|[proud, vision, c...|[proud, vision, c...|      true|          POTUS|    9|         7834|         27234|\n",
      "| HillaryClinton|If we stand toget...|[stand, together,...|[stand, togeth, n...|     false|           null|    9|          916|          2542|\n",
      "| HillaryClinton|Both candidates w...|[candidates, aske...|[candid, ask, con...|     false|           null|    9|          859|          2882|\n",
      "|realDonaldTrump|Join me for a 3pm...|[join, 3pm, rally...|[join, 3pm, ralli...|     false|           null|    9|         2181|          6172|\n",
      "| HillaryClinton|This election is ...|[election, import...|[elect, import, s...|     false|           null|    9|         1303|          2849|\n",
      "| HillaryClinton|When Donald Trump...|[donald, trump, g...|[donald, trump, g...|     false|           null|    9|         1833|          4954|\n",
      "|realDonaldTrump|Once again, we wi...|[government, peop...|[govern, peopl, j...|     false|           null|    9|         4132|         11239|\n",
      "| HillaryClinton|3) Has Trump offe...|[trump, offered, ...|[trump, offer, si...|      true|         mcuban|    9|         1087|          2824|\n",
      "+---------------+--------------------+--------------------+--------------------+----------+---------------+-----+-------------+--------------+\n",
      "only showing top 10 rows\n",
      "\n"
     ]
    }
   ],
   "source": [
    "clean_text.show(10)"
   ]
  },
  {
   "cell_type": "markdown",
   "metadata": {},
   "source": [
    "# Data exploration"
   ]
  },
  {
   "cell_type": "markdown",
   "metadata": {},
   "source": [
    "## Frequently used words by the candidates\n",
    "Please note that only the tweets writen by the candidates will be taken into consideration for this part (i.e. retweets won't be considered)"
   ]
  },
  {
   "cell_type": "markdown",
   "metadata": {},
   "source": [
    "### Frequently used words overall"
   ]
  },
  {
   "cell_type": "code",
   "execution_count": 337,
   "metadata": {},
   "outputs": [],
   "source": [
    "# Finding the most used word for all candidates\n",
    "word_counts_all = clean_text.filter('!is_retweet').withColumn('word', explode('words_clean')).groupBy('word').count().sort('count', ascending=False)\n"
   ]
  },
  {
   "cell_type": "code",
   "execution_count": 338,
   "metadata": {},
   "outputs": [
    {
     "name": "stdout",
     "output_type": "stream",
     "text": [
      "+---------+-----+\n",
      "|     word|count|\n",
      "+---------+-----+\n",
      "|  hillary|  914|\n",
      "|    trump|  869|\n",
      "|    thank|  551|\n",
      "|    great|  511|\n",
      "|   donald|  400|\n",
      "|   people|  387|\n",
      "|  america|  366|\n",
      "|     make|  332|\n",
      "|president|  326|\n",
      "|      new|  256|\n",
      "+---------+-----+\n",
      "only showing top 10 rows\n",
      "\n"
     ]
    }
   ],
   "source": [
    "word_counts_all.show(10)"
   ]
  },
  {
   "cell_type": "markdown",
   "metadata": {},
   "source": [
    "### Frequently used words by Hillary Clinton"
   ]
  },
  {
   "cell_type": "code",
   "execution_count": 339,
   "metadata": {},
   "outputs": [],
   "source": [
    "# The words mostly used by each candidate\n",
    "\n",
    "# Hillary word counts\n",
    "hillary_tweets = clean_text.filter(\"handle = 'HillaryClinton'\").filter('!is_retweet')\n",
    "word_counts_hillary = hillary_tweets.filter('!is_retweet').withColumn('word', explode('words_clean')).groupBy('word').count().sort('count', ascending=False)\n"
   ]
  },
  {
   "cell_type": "code",
   "execution_count": 340,
   "metadata": {},
   "outputs": [
    {
     "name": "stdout",
     "output_type": "stream",
     "text": [
      "+---------+-----+\n",
      "|     word|count|\n",
      "+---------+-----+\n",
      "|  hillary|  580|\n",
      "|    trump|  561|\n",
      "|   donald|  347|\n",
      "|president|  217|\n",
      "|     make|  168|\n",
      "|  america|  165|\n",
      "|   people|  165|\n",
      "|      one|  137|\n",
      "|  trump's|  118|\n",
      "|     need|  116|\n",
      "+---------+-----+\n",
      "only showing top 10 rows\n",
      "\n"
     ]
    }
   ],
   "source": [
    "word_counts_hillary.show(10)"
   ]
  },
  {
   "cell_type": "markdown",
   "metadata": {},
   "source": [
    "### Frequently used words by Donald Trump"
   ]
  },
  {
   "cell_type": "code",
   "execution_count": 341,
   "metadata": {},
   "outputs": [],
   "source": [
    "# Trump word counts\n",
    "trump_tweets = clean_text.filter(\"handle = 'realDonaldTrump'\").filter('!is_retweet')\n",
    "word_counts_trump = trump_tweets.filter('!is_retweet').withColumn('word', explode('words_clean')).groupBy('word').count().sort('count', ascending=False)\n"
   ]
  },
  {
   "cell_type": "code",
   "execution_count": 342,
   "metadata": {},
   "outputs": [
    {
     "name": "stdout",
     "output_type": "stream",
     "text": [
      "+-------+-----+\n",
      "|   word|count|\n",
      "+-------+-----+\n",
      "|  thank|  510|\n",
      "|  great|  457|\n",
      "|hillary|  334|\n",
      "|  trump|  308|\n",
      "| people|  222|\n",
      "|america|  201|\n",
      "|    new|  186|\n",
      "|   cruz|  183|\n",
      "|crooked|  181|\n",
      "|clinton|  179|\n",
      "+-------+-----+\n",
      "only showing top 10 rows\n",
      "\n"
     ]
    }
   ],
   "source": [
    "word_counts_trump.show(10)"
   ]
  },
  {
   "cell_type": "markdown",
   "metadata": {},
   "source": [
    "## Working on the retweets (i.e. tweets not writen by the candidates)"
   ]
  },
  {
   "cell_type": "code",
   "execution_count": 343,
   "metadata": {},
   "outputs": [],
   "source": [
    "# Creating a dataframe containing columns relevent to this analysis\n",
    "retweets = clean_text.filter('is_retweet').select('handle', 'text', 'words_clean', 'original_author', 'retweet_count', 'favorite_count')"
   ]
  },
  {
   "cell_type": "code",
   "execution_count": 344,
   "metadata": {},
   "outputs": [
    {
     "name": "stdout",
     "output_type": "stream",
     "text": [
      "+---------------+--------------------+--------------------+---------------+-------------+--------------+\n",
      "|         handle|                text|         words_clean|original_author|retweet_count|favorite_count|\n",
      "+---------------+--------------------+--------------------+---------------+-------------+--------------+\n",
      "| HillaryClinton|Last night, Donal...|[last, night, don...|       timkaine|         2445|          5308|\n",
      "| HillaryClinton|Couldn't be more ...|[proud, vision, c...|          POTUS|         7834|         27234|\n",
      "| HillaryClinton|3) Has Trump offe...|[trump, offered, ...|         mcuban|         1087|          2824|\n",
      "| HillaryClinton|The election is j...|[election, weeks,...|       ddlovato|         3347|          7698|\n",
      "|realDonaldTrump|On National #Vote...|[national, make, ...|            GOP|         2953|          6963|\n",
      "| HillaryClinton|So. Everything yo...|[everything, feel...|   shondarhimes|         1328|          2435|\n",
      "| HillaryClinton|Register and vote...|[register, vote, ...|       JoeBiden|         1235|          3206|\n",
      "| HillaryClinton|I've been fortuna...|[fortunate, meet,...|    AndrewJenks|          804|          2086|\n",
      "| HillaryClinton|Today is #Nationa...|[today, beaten, l...|   repjohnlewis|        20006|         24333|\n",
      "| HillaryClinton|More than 70 mill...|[million, america...| jasoncollins98|         1138|          1554|\n",
      "| HillaryClinton|Tonight, @Hillary...|[tonight, proved,...|       JoeBiden|        10733|         30012|\n",
      "| HillaryClinton|.@timkaine That's...|[girls, clear, ca...|      madeleine|         3229|         10833|\n",
      "| HillaryClinton|Hillary Clinton d...|[hillary, clinton...|    TheAtlantic|         2277|          6913|\n",
      "| HillaryClinton|Tonight, we heard...|[tonight, heard, ...|   ChadHGriffin|         7576|         20896|\n",
      "| HillaryClinton|\"Hillary won big ...|[hillary, won, bi...|       hardball|         4682|         12991|\n",
      "| HillaryClinton|Clinton won this ...|[clinton, won, de...|      ezraklein|         8546|         22141|\n",
      "|realDonaldTrump|.@realDonaldTrump...|[calling, support...|      TeamTrump|         6139|         13209|\n",
      "| HillaryClinton|Donald Trump says...|[donald, trump, s...|TheBriefing2016|         5646|         10367|\n",
      "|realDonaldTrump|100% TRUE --&gt; ...|[100, true, right...|      TeamTrump|         7419|         12728|\n",
      "|realDonaldTrump|Hillary's policie...|[hillary's, polic...|      TeamTrump|         4741|         10739|\n",
      "+---------------+--------------------+--------------------+---------------+-------------+--------------+\n",
      "only showing top 20 rows\n",
      "\n"
     ]
    }
   ],
   "source": [
    "retweets.show()"
   ]
  },
  {
   "cell_type": "markdown",
   "metadata": {},
   "source": [
    "### Finding the authors they retweeted the most"
   ]
  },
  {
   "cell_type": "markdown",
   "metadata": {},
   "source": [
    "#### Authors frequently retweeted by Hillary"
   ]
  },
  {
   "cell_type": "code",
   "execution_count": 345,
   "metadata": {},
   "outputs": [
    {
     "name": "stdout",
     "output_type": "stream",
     "text": [
      "+---------------+-----+\n",
      "|original_author|count|\n",
      "+---------------+-----+\n",
      "|TheBriefing2016|   79|\n",
      "|            HFA|   56|\n",
      "|       timkaine|   41|\n",
      "|       JoeBiden|   15|\n",
      "|    johnpodesta|   12|\n",
      "|    mayaharris_|   11|\n",
      "|  BernieSanders|    9|\n",
      "|  rosenbergerlm|    8|\n",
      "| ChelseaClinton|    7|\n",
      "|     Ann_OLeary|    7|\n",
      "+---------------+-----+\n",
      "only showing top 10 rows\n",
      "\n"
     ]
    }
   ],
   "source": [
    "# For Hillary\n",
    "retweets_hillary_counts = retweets.filter(\"handle = 'HillaryClinton'\").groupBy('original_author').count().sort('count', ascending=False)\n",
    "\n",
    "retweets_hillary_counts.show(10)"
   ]
  },
  {
   "cell_type": "markdown",
   "metadata": {},
   "source": [
    "#### Authors frequently retweeted by Trump"
   ]
  },
  {
   "cell_type": "code",
   "execution_count": 346,
   "metadata": {},
   "outputs": [
    {
     "name": "stdout",
     "output_type": "stream",
     "text": [
      "+---------------+-----+\n",
      "|original_author|count|\n",
      "+---------------+-----+\n",
      "|      EricTrump|   17|\n",
      "|     DanScavino|    8|\n",
      "| DonaldJTrumpJr|    8|\n",
      "|  DRUDGE_REPORT|    8|\n",
      "|      TeamTrump|    6|\n",
      "|     AnnCoulter|    5|\n",
      "|    IvankaTrump|    4|\n",
      "|         JoeNBC|    4|\n",
      "|  CLewandowski_|    3|\n",
      "|  RealBenCarson|    3|\n",
      "+---------------+-----+\n",
      "only showing top 10 rows\n",
      "\n"
     ]
    }
   ],
   "source": [
    "# For Trump\n",
    "retweets_trump_counts = retweets.filter(\"handle = 'realDonaldTrump'\").groupBy('original_author').count().sort('count', ascending=False)\n",
    "\n",
    "retweets_trump_counts.show(10)"
   ]
  },
  {
   "cell_type": "markdown",
   "metadata": {},
   "source": [
    "#### Visualizing the results\n",
    "The user can choose the candidate"
   ]
  },
  {
   "cell_type": "code",
   "execution_count": 347,
   "metadata": {},
   "outputs": [
    {
     "name": "stdout",
     "output_type": "stream",
     "text": [
      "Enter 'h' for Hillary Clinton and 't' for Donald Trump: h\n"
     ]
    },
    {
     "data": {
      "image/png": "[encoded data removed]",
      "text/plain": [
       "<matplotlib.figure.Figure at 0x7fe4c668f9e8>"
      ]
     },
     "metadata": {
      "needs_background": "light"
     },
     "output_type": "display_data"
    }
   ],
   "source": [
    "user_input = input(\"Enter 'h' for Hillary Clinton and 't' for Donald Trump: \")\n",
    "\n",
    "if user_input == 'h':\n",
    "    authors_plot = retweets_trump_counts.limit(10).toPandas()\n",
    "\n",
    "elif user_input == 't':\n",
    "    authors_plot = retweets_trump_counts.limit(10).toPandas()\n",
    "    \n",
    "authors_plot.plot('original_author', 'count', kind = 'bar')\n",
    "plt.show()"
   ]
  },
  {
   "cell_type": "markdown",
   "metadata": {},
   "source": [
    "### Finding the retweets with most likes"
   ]
  },
  {
   "cell_type": "markdown",
   "metadata": {},
   "source": [
    "#### For Hillary"
   ]
  },
  {
   "cell_type": "markdown",
   "metadata": {},
   "source": [
    "##### Favorite sum"
   ]
  },
  {
   "cell_type": "code",
   "execution_count": 362,
   "metadata": {},
   "outputs": [
    {
     "name": "stdout",
     "output_type": "stream",
     "text": [
      "+---------------+-------------------+\n",
      "|original_author|sum(favorite_count)|\n",
      "+---------------+-------------------+\n",
      "|POTUS          |402245             |\n",
      "|timkaine       |291212             |\n",
      "|TheBriefing2016|171011             |\n",
      "|JoeBiden       |144088             |\n",
      "|HFA            |140817             |\n",
      "|BernieSanders  |131707             |\n",
      "|billclinton    |128328             |\n",
      "|elizabethforma |124283             |\n",
      "|SenSanders     |113734             |\n",
      "|repjohnlewis   |66014              |\n",
      "+---------------+-------------------+\n",
      "\n"
     ]
    }
   ],
   "source": [
    "# Hillary\n",
    "retweets_hillary_likes_sum = retweets.filter(\"handle = 'HillaryClinton'\").select('original_author', 'favorite_count').groupBy('original_author').sum('favorite_count').sort('sum(favorite_count)', ascending=False).limit(10)\n",
    "retweets_hillary_likes_sum.show(10,False)\n"
   ]
  },
  {
   "cell_type": "markdown",
   "metadata": {},
   "source": [
    "##### Favorite average"
   ]
  },
  {
   "cell_type": "code",
   "execution_count": 363,
   "metadata": {},
   "outputs": [
    {
     "name": "stdout",
     "output_type": "stream",
     "text": [
      "+---------------+-------------------+\n",
      "|original_author|avg(favorite_count)|\n",
      "+---------------+-------------------+\n",
      "|POTUS          |100561.25          |\n",
      "|SenSanders     |56867.0            |\n",
      "|TammyforIL     |46043.0            |\n",
      "|funnyordie     |45833.0            |\n",
      "|jtimberlake    |38132.0            |\n",
      "|Lin_Manuel     |26644.0            |\n",
      "|JohnKasich     |22933.5            |\n",
      "|ElizabethBanks |22672.0            |\n",
      "|billclinton    |21388.0            |\n",
      "|elizabethforma |20713.833333333332 |\n",
      "+---------------+-------------------+\n",
      "\n"
     ]
    }
   ],
   "source": [
    "retweets_hillary_likes_avg = retweets.filter(\"handle = 'HillaryClinton'\").select('original_author', 'favorite_count').groupBy('original_author').avg('favorite_count').sort('avg(favorite_count)', ascending=False).limit(10)\n",
    "retweets_hillary_likes_avg.show(10,False)\n"
   ]
  },
  {
   "cell_type": "markdown",
   "metadata": {},
   "source": [
    "#### For Trump"
   ]
  },
  {
   "cell_type": "markdown",
   "metadata": {},
   "source": [
    "##### Favorites sum"
   ]
  },
  {
   "cell_type": "code",
   "execution_count": 364,
   "metadata": {},
   "outputs": [
    {
     "name": "stdout",
     "output_type": "stream",
     "text": [
      "+---------------+-------------------+\n",
      "|original_author|sum(favorite_count)|\n",
      "+---------------+-------------------+\n",
      "|EricTrump      |168725             |\n",
      "|DanScavino     |98713              |\n",
      "|RealBenCarson  |80087              |\n",
      "|AnnCoulter     |76412              |\n",
      "|DRUDGE_REPORT  |71974              |\n",
      "|DonaldJTrumpJr |66504              |\n",
      "|TeamTrump      |62601              |\n",
      "|IvankaTrump    |41302              |\n",
      "|piersmorgan    |39864              |\n",
      "|realDonaldTrump|36015              |\n",
      "+---------------+-------------------+\n",
      "\n"
     ]
    }
   ],
   "source": [
    "# Trump\n",
    "retweets_trump_likes_sum = retweets.filter(\"handle = 'realDonaldTrump'\").select('original_author', 'favorite_count').groupBy('original_author').sum('favorite_count').sort('sum(favorite_count)', ascending=False).limit(10)\n",
    "retweets_trump_likes_sum.show(10,False)"
   ]
  },
  {
   "cell_type": "markdown",
   "metadata": {},
   "source": [
    "##### Favorites average"
   ]
  },
  {
   "cell_type": "code",
   "execution_count": 365,
   "metadata": {},
   "outputs": [
    {
     "name": "stdout",
     "output_type": "stream",
     "text": [
      "+---------------+-------------------+\n",
      "|original_author|avg(favorite_count)|\n",
      "+---------------+-------------------+\n",
      "|piersmorgan    |39864.0            |\n",
      "|realDonaldTrump|36015.0            |\n",
      "|GovMikeHuckabee|29971.0            |\n",
      "|BarackObama    |29489.0            |\n",
      "|RealBenCarson  |26695.666666666668 |\n",
      "|FoxNews        |22461.0            |\n",
      "|williebosshog  |20256.0            |\n",
      "|KellyannePolls |15852.5            |\n",
      "|LouDobbs       |15844.5            |\n",
      "|GMA            |15799.0            |\n",
      "+---------------+-------------------+\n",
      "\n"
     ]
    }
   ],
   "source": [
    "retweets_trump_likes_avg = retweets.filter(\"handle = 'realDonaldTrump'\").select('original_author', 'favorite_count').groupBy('original_author').avg('favorite_count').sort('avg(favorite_count)', ascending=False).limit(10)\n",
    "retweets_trump_likes_avg.show(10,False)\n"
   ]
  },
  {
   "cell_type": "markdown",
   "metadata": {},
   "source": [
    "#### Visualizing the results"
   ]
  },
  {
   "cell_type": "code",
   "execution_count": 368,
   "metadata": {},
   "outputs": [
    {
     "name": "stdout",
     "output_type": "stream",
     "text": [
      "Enter 'h' for Hillary Clinton and 't' for Donald Trump: t\n",
      "Enter 's' for sum and 'a' average: a\n"
     ]
    },
    {
     "data": {
      "image/png": "[encoded data removed]",
      "text/plain": [
       "<matplotlib.figure.Figure at 0x7fe4c66c7198>"
      ]
     },
     "metadata": {
      "needs_background": "light"
     },
     "output_type": "display_data"
    }
   ],
   "source": [
    "author_name = input(\"Enter 'h' for Hillary Clinton and 't' for Donald Trump: \")\n",
    "opperation = input(\"Enter 's' for sum and 'a' average: \")\n",
    "\n",
    "if opperation == 's':\n",
    "    if author_name == 'h':\n",
    "        authors_plot = retweets_hillary_likes_sum.toPandas()\n",
    "\n",
    "    elif author_name == 't':\n",
    "        authors_plot = retweets_trump_likes_sum.toPandas()\n",
    "    authors_plot.plot('original_author', 'sum(favorite_count)', kind = 'bar')\n",
    "\n",
    "elif opperation == 'a':\n",
    "    if author_name == 'h':\n",
    "        authors_plot = retweets_hillary_likes_avg.toPandas()\n",
    "\n",
    "    elif author_name == 't':\n",
    "        authors_plot = retweets_trump_likes_avg.toPandas()\n",
    "    authors_plot.plot('original_author', 'avg(favorite_count)', kind = 'bar')\n",
    "\n",
    "plt.show()"
   ]
  },
  {
   "cell_type": "markdown",
   "metadata": {},
   "source": [
    "### Finding the retweets with the most retweets"
   ]
  },
  {
   "cell_type": "markdown",
   "metadata": {},
   "source": [
    "#### For Hillary"
   ]
  },
  {
   "cell_type": "markdown",
   "metadata": {},
   "source": [
    "#### Retweets sum"
   ]
  },
  {
   "cell_type": "code",
   "execution_count": 370,
   "metadata": {},
   "outputs": [
    {
     "name": "stdout",
     "output_type": "stream",
     "text": [
      "+---------------+------------------+\n",
      "|original_author|sum(retweet_count)|\n",
      "+---------------+------------------+\n",
      "|POTUS          |158018            |\n",
      "|TheBriefing2016|117414            |\n",
      "|timkaine       |115794            |\n",
      "|BernieSanders  |62181             |\n",
      "|elizabethforma |57769             |\n",
      "|JoeBiden       |57051             |\n",
      "|HFA            |56049             |\n",
      "|SenSanders     |52673             |\n",
      "|repjohnlewis   |40025             |\n",
      "|billclinton    |29700             |\n",
      "+---------------+------------------+\n",
      "\n"
     ]
    }
   ],
   "source": [
    "# Hillary\n",
    "retweets_hillary_retweets_sum = retweets.filter(\"handle = 'HillaryClinton'\").select('original_author', 'retweet_count').groupBy('original_author').sum('retweet_count').sort('sum(retweet_count)', ascending=False).limit(10)\n",
    "retweets_hillary_retweets_sum.show(10,False)"
   ]
  },
  {
   "cell_type": "markdown",
   "metadata": {},
   "source": [
    "##### Retweets average"
   ]
  },
  {
   "cell_type": "code",
   "execution_count": 372,
   "metadata": {},
   "outputs": [
    {
     "name": "stdout",
     "output_type": "stream",
     "text": [
      "+---------------+------------------+\n",
      "|original_author|avg(retweet_count)|\n",
      "+---------------+------------------+\n",
      "|POTUS          |39504.5           |\n",
      "|funnyordie     |28387.0           |\n",
      "|SenSanders     |26336.5           |\n",
      "|TammyforIL     |24200.0           |\n",
      "|MittRomney     |13217.5           |\n",
      "|CNBCnow        |10813.0           |\n",
      "|ElizabethBanks |10352.0           |\n",
      "|repjohnlewis   |10006.25          |\n",
      "|jtimberlake    |9979.0            |\n",
      "|elizabethforma |9628.166666666666 |\n",
      "+---------------+------------------+\n",
      "\n"
     ]
    }
   ],
   "source": [
    "retweets_hillary_retweets_avg = retweets.filter(\"handle = 'HillaryClinton'\").select('original_author', 'retweet_count').groupBy('original_author').avg('retweet_count').sort('avg(retweet_count)', ascending=False).limit(10)\n",
    "retweets_hillary_retweets_avg.show(10,False)"
   ]
  },
  {
   "cell_type": "markdown",
   "metadata": {},
   "source": [
    "#### For Trump"
   ]
  },
  {
   "cell_type": "markdown",
   "metadata": {},
   "source": [
    "##### Retweets sum"
   ]
  },
  {
   "cell_type": "code",
   "execution_count": 142,
   "metadata": {},
   "outputs": [
    {
     "name": "stdout",
     "output_type": "stream",
     "text": [
      "+---------------+-------------+\n",
      "|original_author|retweet_count|\n",
      "+---------------+-------------+\n",
      "|BarackObama    |27727        |\n",
      "|RealBenCarson  |21602        |\n",
      "|GovMikeHuckabee|16814        |\n",
      "|piersmorgan    |16805        |\n",
      "|DanScavino     |13146        |\n",
      "|RealBenCarson  |11725        |\n",
      "|benshapiro     |10426        |\n",
      "|realDonaldTrump|10277        |\n",
      "|EricTrump      |10182        |\n",
      "|LouDobbs       |9401         |\n",
      "+---------------+-------------+\n",
      "\n"
     ]
    }
   ],
   "source": [
    "# Trump\n",
    "retweets_trump_retweets = retweets.filter(\"handle = 'realDonaldTrump'\").select('original_author', 'retweet_count').groupBy('original_author').sum('retweet_count').sort('sum(retweet_count)', ascending=False).limit(10)\n",
    "retweets_trump_retweets.show(10,False)"
   ]
  },
  {
   "cell_type": "markdown",
   "metadata": {},
   "source": [
    "##### Retweets average"
   ]
  },
  {
   "cell_type": "code",
   "execution_count": 373,
   "metadata": {},
   "outputs": [
    {
     "name": "stdout",
     "output_type": "stream",
     "text": [
      "+---------------+------------------+\n",
      "|original_author|avg(retweet_count)|\n",
      "+---------------+------------------+\n",
      "|BarackObama    |27727.0           |\n",
      "|GovMikeHuckabee|16814.0           |\n",
      "|piersmorgan    |16805.0           |\n",
      "|RealBenCarson  |14072.333333333334|\n",
      "|benshapiro     |10426.0           |\n",
      "|realDonaldTrump|10277.0           |\n",
      "|williebosshog  |9156.0            |\n",
      "|FoxNews        |9029.0            |\n",
      "|NRA            |7668.0            |\n",
      "|GMA            |6947.0            |\n",
      "+---------------+------------------+\n",
      "\n"
     ]
    }
   ],
   "source": [
    "retweets_trump_retweets = retweets.filter(\"handle = 'realDonaldTrump'\").select('original_author', 'retweet_count').groupBy('original_author').avg('retweet_count').sort('avg(retweet_count)', ascending=False).limit(10)\n",
    "retweets_trump_retweets.show(10,False)"
   ]
  },
  {
   "cell_type": "markdown",
   "metadata": {},
   "source": [
    "#### Visualizing the results"
   ]
  },
  {
   "cell_type": "code",
   "execution_count": 374,
   "metadata": {},
   "outputs": [
    {
     "name": "stdout",
     "output_type": "stream",
     "text": [
      "Enter 'h' for Hillary Clinton and 't' for Donald Trump: h\n",
      "Enter 's' for sum and 'a' average: s\n"
     ]
    },
    {
     "data": {
      "image/png": "[encoded data removed]",
      "text/plain": [
       "<matplotlib.figure.Figure at 0x7fe4c66571d0>"
      ]
     },
     "metadata": {
      "needs_background": "light"
     },
     "output_type": "display_data"
    }
   ],
   "source": [
    "author_name = input(\"Enter 'h' for Hillary Clinton and 't' for Donald Trump: \")\n",
    "opperation = input(\"Enter 's' for sum and 'a' average: \")\n",
    "\n",
    "if opperation == 's':\n",
    "    if author_name == 'h':\n",
    "        authors_plot = retweets_hillary_retweets_sum.toPandas()\n",
    "\n",
    "    elif author_name == 't':\n",
    "        authors_plot = retweets_trump_retweets_sum.toPandas()\n",
    "    authors_plot.plot('original_author', 'sum(retweet_count)', kind = 'bar')\n",
    "\n",
    "elif opperation == 'a':\n",
    "    if author_name == 'h':\n",
    "        authors_plot = retweets_hillary_retweets_avg.toPandas()\n",
    "\n",
    "    elif author_name == 't':\n",
    "        authors_plot = retweets_trump_retweets_avg.toPandas()\n",
    "    authors_plot.plot('original_author', 'avg(retweet_count)', kind = 'bar')\n",
    "\n",
    "plt.show()"
   ]
  },
  {
   "cell_type": "markdown",
   "metadata": {},
   "source": [
    "### Checking if there are any mutual authors between the two candidates"
   ]
  },
  {
   "cell_type": "code",
   "execution_count": 369,
   "metadata": {},
   "outputs": [
    {
     "name": "stdout",
     "output_type": "stream",
     "text": [
      "+---------------+-----+-----+\n",
      "|original_author|count|count|\n",
      "+---------------+-----+-----+\n",
      "|            GMA|    1|    1|\n",
      "|    Morning_Joe|    1|    1|\n",
      "+---------------+-----+-----+\n",
      "\n"
     ]
    }
   ],
   "source": [
    "# Finding the overlap of authors between the two candidates\n",
    "retweets_trump_counts.join(retweets_hillary_counts, 'original_author').show(10)"
   ]
  },
  {
   "cell_type": "markdown",
   "metadata": {},
   "source": [
    "## Finding the number of likes and retweets in each month"
   ]
  },
  {
   "cell_type": "markdown",
   "metadata": {},
   "source": [
    "### Number of likes in each month"
   ]
  },
  {
   "cell_type": "markdown",
   "metadata": {},
   "source": [
    "#### For Hillary"
   ]
  },
  {
   "cell_type": "code",
   "execution_count": 376,
   "metadata": {},
   "outputs": [
    {
     "data": {
      "text/html": [
       "<div>\n",
       "<style scoped>\n",
       "    .dataframe tbody tr th:only-of-type {\n",
       "        vertical-align: middle;\n",
       "    }\n",
       "\n",
       "    .dataframe tbody tr th {\n",
       "        vertical-align: top;\n",
       "    }\n",
       "\n",
       "    .dataframe thead th {\n",
       "        text-align: right;\n",
       "    }\n",
       "</style>\n",
       "<table border=\"1\" class=\"dataframe\">\n",
       "  <thead>\n",
       "    <tr style=\"text-align: right;\">\n",
       "      <th></th>\n",
       "      <th>month</th>\n",
       "      <th>sum(favorite_count)</th>\n",
       "    </tr>\n",
       "  </thead>\n",
       "  <tbody>\n",
       "    <tr>\n",
       "      <th>0</th>\n",
       "      <td>4</td>\n",
       "      <td>548021</td>\n",
       "    </tr>\n",
       "    <tr>\n",
       "      <th>1</th>\n",
       "      <td>5</td>\n",
       "      <td>1118879</td>\n",
       "    </tr>\n",
       "    <tr>\n",
       "      <th>2</th>\n",
       "      <td>6</td>\n",
       "      <td>4175061</td>\n",
       "    </tr>\n",
       "    <tr>\n",
       "      <th>3</th>\n",
       "      <td>7</td>\n",
       "      <td>6444028</td>\n",
       "    </tr>\n",
       "    <tr>\n",
       "      <th>4</th>\n",
       "      <td>8</td>\n",
       "      <td>3450891</td>\n",
       "    </tr>\n",
       "    <tr>\n",
       "      <th>5</th>\n",
       "      <td>9</td>\n",
       "      <td>5501525</td>\n",
       "    </tr>\n",
       "  </tbody>\n",
       "</table>\n",
       "</div>"
      ],
      "text/plain": [
       "   month  sum(favorite_count)\n",
       "0      4               548021\n",
       "1      5              1118879\n",
       "2      6              4175061\n",
       "3      7              6444028\n",
       "4      8              3450891\n",
       "5      9              5501525"
      ]
     },
     "execution_count": 376,
     "metadata": {},
     "output_type": "execute_result"
    }
   ],
   "source": [
    "likes_month_hillary = clean_text.filter(\"handle = 'HillaryClinton'\").select('month', 'favorite_count').groupBy('month').sum('favorite_count').sort('month')\n",
    "likes_plot_hillary = likes_month_hillary.toPandas()\n",
    "likes_plot_hillary"
   ]
  },
  {
   "cell_type": "code",
   "execution_count": 377,
   "metadata": {},
   "outputs": [
    {
     "data": {
      "image/png": "[encoded data removed]",
      "text/plain": [
       "<matplotlib.figure.Figure at 0x7fe5621400f0>"
      ]
     },
     "metadata": {
      "needs_background": "light"
     },
     "output_type": "display_data"
    }
   ],
   "source": [
    "likes_plot_hillary.plot('month', 'sum(favorite_count)', kind = 'bar')\n",
    "plt.show()"
   ]
  },
  {
   "cell_type": "markdown",
   "metadata": {},
   "source": [
    "#### For Trump"
   ]
  },
  {
   "cell_type": "code",
   "execution_count": 378,
   "metadata": {},
   "outputs": [
    {
     "data": {
      "text/html": [
       "<div>\n",
       "<style scoped>\n",
       "    .dataframe tbody tr th:only-of-type {\n",
       "        vertical-align: middle;\n",
       "    }\n",
       "\n",
       "    .dataframe tbody tr th {\n",
       "        vertical-align: top;\n",
       "    }\n",
       "\n",
       "    .dataframe thead th {\n",
       "        text-align: right;\n",
       "    }\n",
       "</style>\n",
       "<table border=\"1\" class=\"dataframe\">\n",
       "  <thead>\n",
       "    <tr style=\"text-align: right;\">\n",
       "      <th></th>\n",
       "      <th>month</th>\n",
       "      <th>sum(favorite_count)</th>\n",
       "    </tr>\n",
       "  </thead>\n",
       "  <tbody>\n",
       "    <tr>\n",
       "      <th>0</th>\n",
       "      <td>1</td>\n",
       "      <td>2486866</td>\n",
       "    </tr>\n",
       "    <tr>\n",
       "      <th>1</th>\n",
       "      <td>2</td>\n",
       "      <td>4127009</td>\n",
       "    </tr>\n",
       "    <tr>\n",
       "      <th>2</th>\n",
       "      <td>3</td>\n",
       "      <td>6760867</td>\n",
       "    </tr>\n",
       "    <tr>\n",
       "      <th>3</th>\n",
       "      <td>4</td>\n",
       "      <td>3763150</td>\n",
       "    </tr>\n",
       "    <tr>\n",
       "      <th>4</th>\n",
       "      <td>5</td>\n",
       "      <td>5423054</td>\n",
       "    </tr>\n",
       "    <tr>\n",
       "      <th>5</th>\n",
       "      <td>6</td>\n",
       "      <td>5979544</td>\n",
       "    </tr>\n",
       "    <tr>\n",
       "      <th>6</th>\n",
       "      <td>7</td>\n",
       "      <td>10349780</td>\n",
       "    </tr>\n",
       "    <tr>\n",
       "      <th>7</th>\n",
       "      <td>8</td>\n",
       "      <td>6867500</td>\n",
       "    </tr>\n",
       "    <tr>\n",
       "      <th>8</th>\n",
       "      <td>9</td>\n",
       "      <td>6446583</td>\n",
       "    </tr>\n",
       "  </tbody>\n",
       "</table>\n",
       "</div>"
      ],
      "text/plain": [
       "   month  sum(favorite_count)\n",
       "0      1              2486866\n",
       "1      2              4127009\n",
       "2      3              6760867\n",
       "3      4              3763150\n",
       "4      5              5423054\n",
       "5      6              5979544\n",
       "6      7             10349780\n",
       "7      8              6867500\n",
       "8      9              6446583"
      ]
     },
     "execution_count": 378,
     "metadata": {},
     "output_type": "execute_result"
    }
   ],
   "source": [
    "likes_month_trump = clean_text.filter(\"handle = 'realDonaldTrump'\").select('month', 'favorite_count').groupBy('month').sum('favorite_count').sort('month')\n",
    "likes_plot_trump = likes_month_trump.toPandas()\n",
    "likes_plot_trump"
   ]
  },
  {
   "cell_type": "code",
   "execution_count": 379,
   "metadata": {},
   "outputs": [
    {
     "data": {
      "image/png": "[encoded data removed]",
      "text/plain": [
       "<matplotlib.figure.Figure at 0x7fe4c6725be0>"
      ]
     },
     "metadata": {
      "needs_background": "light"
     },
     "output_type": "display_data"
    }
   ],
   "source": [
    "likes_plot_trump.plot('month', 'sum(favorite_count)', kind = 'bar')\n",
    "plt.show()"
   ]
  },
  {
   "cell_type": "markdown",
   "metadata": {},
   "source": [
    "### Both candidates on the same plot for comparison"
   ]
  },
  {
   "cell_type": "code",
   "execution_count": 383,
   "metadata": {},
   "outputs": [
    {
     "data": {
      "image/png": "[encoded data removed]",
      "text/plain": [
       "<matplotlib.figure.Figure at 0x7fe4d40b57b8>"
      ]
     },
     "metadata": {
      "needs_background": "light"
     },
     "output_type": "display_data"
    }
   ],
   "source": [
    "likes_plot_hillary['Key'] = 'Hillary'\n",
    "likes_plot_trump['Key'] = 'Trump'\n",
    "\n",
    "DF = pd.concat([likes_plot_hillary,likes_plot_trump],keys=['Hillary','Trump'])\n",
    "\n",
    "DFGroup = DF.groupby(['month','Key'])\n",
    "\n",
    "DFGPlot = DFGroup.sum().unstack('Key').plot(kind='bar')"
   ]
  },
  {
   "cell_type": "markdown",
   "metadata": {},
   "source": [
    "### Number of retweets in each month"
   ]
  },
  {
   "cell_type": "markdown",
   "metadata": {},
   "source": [
    "#### For Hillary"
   ]
  },
  {
   "cell_type": "code",
   "execution_count": 385,
   "metadata": {},
   "outputs": [
    {
     "data": {
      "text/html": [
       "<div>\n",
       "<style scoped>\n",
       "    .dataframe tbody tr th:only-of-type {\n",
       "        vertical-align: middle;\n",
       "    }\n",
       "\n",
       "    .dataframe tbody tr th {\n",
       "        vertical-align: top;\n",
       "    }\n",
       "\n",
       "    .dataframe thead th {\n",
       "        text-align: right;\n",
       "    }\n",
       "</style>\n",
       "<table border=\"1\" class=\"dataframe\">\n",
       "  <thead>\n",
       "    <tr style=\"text-align: right;\">\n",
       "      <th></th>\n",
       "      <th>month</th>\n",
       "      <th>sum(retweet_count)</th>\n",
       "    </tr>\n",
       "  </thead>\n",
       "  <tbody>\n",
       "    <tr>\n",
       "      <th>0</th>\n",
       "      <td>4</td>\n",
       "      <td>253749</td>\n",
       "    </tr>\n",
       "    <tr>\n",
       "      <th>1</th>\n",
       "      <td>5</td>\n",
       "      <td>550875</td>\n",
       "    </tr>\n",
       "    <tr>\n",
       "      <th>2</th>\n",
       "      <td>6</td>\n",
       "      <td>1966533</td>\n",
       "    </tr>\n",
       "    <tr>\n",
       "      <th>3</th>\n",
       "      <td>7</td>\n",
       "      <td>2547387</td>\n",
       "    </tr>\n",
       "    <tr>\n",
       "      <th>4</th>\n",
       "      <td>8</td>\n",
       "      <td>1424156</td>\n",
       "    </tr>\n",
       "    <tr>\n",
       "      <th>5</th>\n",
       "      <td>9</td>\n",
       "      <td>2694383</td>\n",
       "    </tr>\n",
       "  </tbody>\n",
       "</table>\n",
       "</div>"
      ],
      "text/plain": [
       "   month  sum(retweet_count)\n",
       "0      4              253749\n",
       "1      5              550875\n",
       "2      6             1966533\n",
       "3      7             2547387\n",
       "4      8             1424156\n",
       "5      9             2694383"
      ]
     },
     "execution_count": 385,
     "metadata": {},
     "output_type": "execute_result"
    }
   ],
   "source": [
    "retweets_month_hillary = clean_text.filter(\"handle = 'HillaryClinton'\").select('month', 'retweet_count').groupBy('month').sum('retweet_count').sort('month')\n",
    "retweets_plot_hillary = retweets_month_hillary.toPandas()\n",
    "retweets_plot_hillary"
   ]
  },
  {
   "cell_type": "code",
   "execution_count": 386,
   "metadata": {},
   "outputs": [
    {
     "data": {
      "image/png": "[encoded data removed]",
      "text/plain": [
       "<matplotlib.figure.Figure at 0x7fe56238c940>"
      ]
     },
     "metadata": {
      "needs_background": "light"
     },
     "output_type": "display_data"
    }
   ],
   "source": [
    "retweets_plot_hillary.plot('month', 'sum(retweet_count)', kind = 'bar')\n",
    "plt.show()"
   ]
  },
  {
   "cell_type": "markdown",
   "metadata": {},
   "source": [
    "#### For Trump"
   ]
  },
  {
   "cell_type": "code",
   "execution_count": 389,
   "metadata": {},
   "outputs": [
    {
     "data": {
      "text/html": [
       "<div>\n",
       "<style scoped>\n",
       "    .dataframe tbody tr th:only-of-type {\n",
       "        vertical-align: middle;\n",
       "    }\n",
       "\n",
       "    .dataframe tbody tr th {\n",
       "        vertical-align: top;\n",
       "    }\n",
       "\n",
       "    .dataframe thead th {\n",
       "        text-align: right;\n",
       "    }\n",
       "</style>\n",
       "<table border=\"1\" class=\"dataframe\">\n",
       "  <thead>\n",
       "    <tr style=\"text-align: right;\">\n",
       "      <th></th>\n",
       "      <th>month</th>\n",
       "      <th>sum(retweet_count)</th>\n",
       "    </tr>\n",
       "  </thead>\n",
       "  <tbody>\n",
       "    <tr>\n",
       "      <th>0</th>\n",
       "      <td>1</td>\n",
       "      <td>899136</td>\n",
       "    </tr>\n",
       "    <tr>\n",
       "      <th>1</th>\n",
       "      <td>2</td>\n",
       "      <td>1505018</td>\n",
       "    </tr>\n",
       "    <tr>\n",
       "      <th>2</th>\n",
       "      <td>3</td>\n",
       "      <td>2368828</td>\n",
       "    </tr>\n",
       "    <tr>\n",
       "      <th>3</th>\n",
       "      <td>4</td>\n",
       "      <td>1300890</td>\n",
       "    </tr>\n",
       "    <tr>\n",
       "      <th>4</th>\n",
       "      <td>5</td>\n",
       "      <td>1826824</td>\n",
       "    </tr>\n",
       "    <tr>\n",
       "      <th>5</th>\n",
       "      <td>6</td>\n",
       "      <td>2147878</td>\n",
       "    </tr>\n",
       "    <tr>\n",
       "      <th>6</th>\n",
       "      <td>7</td>\n",
       "      <td>3450001</td>\n",
       "    </tr>\n",
       "    <tr>\n",
       "      <th>7</th>\n",
       "      <td>8</td>\n",
       "      <td>2377310</td>\n",
       "    </tr>\n",
       "    <tr>\n",
       "      <th>8</th>\n",
       "      <td>9</td>\n",
       "      <td>2292289</td>\n",
       "    </tr>\n",
       "  </tbody>\n",
       "</table>\n",
       "</div>"
      ],
      "text/plain": [
       "   month  sum(retweet_count)\n",
       "0      1              899136\n",
       "1      2             1505018\n",
       "2      3             2368828\n",
       "3      4             1300890\n",
       "4      5             1826824\n",
       "5      6             2147878\n",
       "6      7             3450001\n",
       "7      8             2377310\n",
       "8      9             2292289"
      ]
     },
     "execution_count": 389,
     "metadata": {},
     "output_type": "execute_result"
    }
   ],
   "source": [
    "retweets_month_trump = clean_text.filter(\"handle = 'realDonaldTrump'\").select('month', 'retweet_count').groupBy('month').sum('retweet_count').sort('month')\n",
    "retweets_plot_trump = retweets_month_trump.toPandas()\n",
    "retweets_plot_trump"
   ]
  },
  {
   "cell_type": "code",
   "execution_count": 390,
   "metadata": {},
   "outputs": [
    {
     "data": {
      "image/png": "[encoded data removed]",
      "text/plain": [
       "<matplotlib.figure.Figure at 0x7fe562213c18>"
      ]
     },
     "metadata": {
      "needs_background": "light"
     },
     "output_type": "display_data"
    }
   ],
   "source": [
    "retweets_plot_trump.plot('month', 'sum(retweet_count)', kind = 'bar')\n",
    "plt.show()"
   ]
  },
  {
   "cell_type": "markdown",
   "metadata": {},
   "source": [
    "### Both candidates on the same plot for comparison"
   ]
  },
  {
   "cell_type": "code",
   "execution_count": 393,
   "metadata": {},
   "outputs": [
    {
     "data": {
      "image/png": "[encoded data removed]",
      "text/plain": [
       "<matplotlib.figure.Figure at 0x7fe4c659d978>"
      ]
     },
     "metadata": {
      "needs_background": "light"
     },
     "output_type": "display_data"
    }
   ],
   "source": [
    "retweets_plot_hillary['Key'] = 'Hillary'\n",
    "retweets_plot_trump['Key'] = 'Trump'\n",
    "\n",
    "DF = pd.concat([retweets_plot_hillary,retweets_plot_trump],keys=['Hillary','Trump'])\n",
    "\n",
    "DFGroup = DF.groupby(['month','Key'])\n",
    "\n",
    "DFGPlot = DFGroup.sum().unstack('Key').plot(kind='bar')"
   ]
  },
  {
   "cell_type": "markdown",
   "metadata": {},
   "source": [
    "# Plotting the n-grams\n",
    "For each of the following sections, the user will choose the candidate and the number of ngrams"
   ]
  },
  {
   "cell_type": "markdown",
   "metadata": {},
   "source": [
    "## Ngrams vs Counts"
   ]
  },
  {
   "cell_type": "code",
   "execution_count": 395,
   "metadata": {},
   "outputs": [
    {
     "name": "stdout",
     "output_type": "stream",
     "text": [
      "Enter 'h' for Hillary Clinton and 't' for Donald Trump: h\n",
      "Enter the number of grams: 2\n"
     ]
    },
    {
     "data": {
      "text/html": [
       "<div>\n",
       "<style scoped>\n",
       "    .dataframe tbody tr th:only-of-type {\n",
       "        vertical-align: middle;\n",
       "    }\n",
       "\n",
       "    .dataframe tbody tr th {\n",
       "        vertical-align: top;\n",
       "    }\n",
       "\n",
       "    .dataframe thead th {\n",
       "        text-align: right;\n",
       "    }\n",
       "</style>\n",
       "<table border=\"1\" class=\"dataframe\">\n",
       "  <thead>\n",
       "    <tr style=\"text-align: right;\">\n",
       "      <th></th>\n",
       "      <th>n_grams</th>\n",
       "      <th>count</th>\n",
       "    </tr>\n",
       "  </thead>\n",
       "  <tbody>\n",
       "    <tr>\n",
       "      <th>0</th>\n",
       "      <td>donald trump</td>\n",
       "      <td>311</td>\n",
       "    </tr>\n",
       "    <tr>\n",
       "      <th>1</th>\n",
       "      <td>hillary clinton</td>\n",
       "      <td>90</td>\n",
       "    </tr>\n",
       "    <tr>\n",
       "      <th>2</th>\n",
       "      <td>donald trump's</td>\n",
       "      <td>51</td>\n",
       "    </tr>\n",
       "    <tr>\n",
       "      <th>3</th>\n",
       "      <td>make sure</td>\n",
       "      <td>45</td>\n",
       "    </tr>\n",
       "    <tr>\n",
       "      <th>4</th>\n",
       "      <td>united states</td>\n",
       "      <td>41</td>\n",
       "    </tr>\n",
       "    <tr>\n",
       "      <th>5</th>\n",
       "      <td>trump says</td>\n",
       "      <td>31</td>\n",
       "    </tr>\n",
       "    <tr>\n",
       "      <th>6</th>\n",
       "      <td>gun violence</td>\n",
       "      <td>28</td>\n",
       "    </tr>\n",
       "    <tr>\n",
       "      <th>7</th>\n",
       "      <td>stronger together</td>\n",
       "      <td>26</td>\n",
       "    </tr>\n",
       "    <tr>\n",
       "      <th>8</th>\n",
       "      <td>last night</td>\n",
       "      <td>24</td>\n",
       "    </tr>\n",
       "    <tr>\n",
       "      <th>9</th>\n",
       "      <td>years ago</td>\n",
       "      <td>24</td>\n",
       "    </tr>\n",
       "  </tbody>\n",
       "</table>\n",
       "</div>"
      ],
      "text/plain": [
       "             n_grams  count\n",
       "0       donald trump    311\n",
       "1    hillary clinton     90\n",
       "2     donald trump's     51\n",
       "3          make sure     45\n",
       "4      united states     41\n",
       "5         trump says     31\n",
       "6       gun violence     28\n",
       "7  stronger together     26\n",
       "8         last night     24\n",
       "9          years ago     24"
      ]
     },
     "metadata": {},
     "output_type": "display_data"
    },
    {
     "data": {
      "image/png": "[encoded data removed]",
      "text/plain": [
       "<matplotlib.figure.Figure at 0x7fe4d444f470>"
      ]
     },
     "metadata": {
      "needs_background": "light"
     },
     "output_type": "display_data"
    }
   ],
   "source": [
    "candidate_name = input(\"Enter 'h' for Hillary Clinton and 't' for Donald Trump: \")\n",
    "n_grams = input(\"Enter the number of grams: \")\n",
    "\n",
    "ngram = NGram(n=int(n_grams), inputCol=\"words_clean\", outputCol=\"ngrams\")\n",
    "\n",
    "df_with_ngrams = ngram.transform(clean_text)\n",
    "#ngramDataFrame.select(\"ngrams\").show(truncate=False)\n",
    "\n",
    "if candidate_name == 'h':\n",
    "    ngrams_df = df_with_ngrams.filter(\"handle = 'HillaryClinton'\").withColumn('n_grams', explode('ngrams')).groupBy('n_grams').count().sort('count', ascending=False)\n",
    "\n",
    "elif candidate_name == 't':\n",
    "    ngrams_df = df_with_ngrams.filter(\"handle = 'realDonaldTrump'\").withColumn('n_grams', explode('ngrams')).groupBy('n_grams').count().sort('count', ascending=False)\n",
    "\n",
    "ngrams_df_plot_counts = ngrams_df.limit(10).toPandas()\n",
    "display(ngrams_df_plot_counts)\n",
    "ngrams_df_plot_counts.plot('n_grams', 'count', kind = 'bar')\n",
    "plt.show()"
   ]
  },
  {
   "cell_type": "markdown",
   "metadata": {},
   "source": [
    "## Ngrams vs Likes"
   ]
  },
  {
   "cell_type": "code",
   "execution_count": 396,
   "metadata": {},
   "outputs": [
    {
     "name": "stdout",
     "output_type": "stream",
     "text": [
      "Enter 'h' for Hillary Clinton and 't' for Donald Trump: t\n",
      "Enter the number of grams: 3\n"
     ]
    },
    {
     "data": {
      "text/html": [
       "<div>\n",
       "<style scoped>\n",
       "    .dataframe tbody tr th:only-of-type {\n",
       "        vertical-align: middle;\n",
       "    }\n",
       "\n",
       "    .dataframe tbody tr th {\n",
       "        vertical-align: top;\n",
       "    }\n",
       "\n",
       "    .dataframe thead th {\n",
       "        text-align: right;\n",
       "    }\n",
       "</style>\n",
       "<table border=\"1\" class=\"dataframe\">\n",
       "  <thead>\n",
       "    <tr style=\"text-align: right;\">\n",
       "      <th></th>\n",
       "      <th>n_grams</th>\n",
       "      <th>sum(favorite_count)</th>\n",
       "    </tr>\n",
       "  </thead>\n",
       "  <tbody>\n",
       "    <tr>\n",
       "      <th>0</th>\n",
       "      <td>crooked hillary clinton</td>\n",
       "      <td>1857328</td>\n",
       "    </tr>\n",
       "    <tr>\n",
       "      <th>1</th>\n",
       "      <td>make america great</td>\n",
       "      <td>1563989</td>\n",
       "    </tr>\n",
       "    <tr>\n",
       "      <th>2</th>\n",
       "      <td>make america safe</td>\n",
       "      <td>530636</td>\n",
       "    </tr>\n",
       "    <tr>\n",
       "      <th>3</th>\n",
       "      <td>goofy elizabeth warren</td>\n",
       "      <td>423949</td>\n",
       "    </tr>\n",
       "    <tr>\n",
       "      <th>4</th>\n",
       "      <td>lyin' ted cruz</td>\n",
       "      <td>326559</td>\n",
       "    </tr>\n",
       "    <tr>\n",
       "      <th>5</th>\n",
       "      <td>america safe great</td>\n",
       "      <td>314195</td>\n",
       "    </tr>\n",
       "    <tr>\n",
       "      <th>6</th>\n",
       "      <td>upand 33000 emails</td>\n",
       "      <td>294162</td>\n",
       "    </tr>\n",
       "    <tr>\n",
       "      <th>7</th>\n",
       "      <td>33000 emails deleted</td>\n",
       "      <td>294162</td>\n",
       "    </tr>\n",
       "    <tr>\n",
       "      <th>8</th>\n",
       "      <td>think upand 33000</td>\n",
       "      <td>294162</td>\n",
       "    </tr>\n",
       "    <tr>\n",
       "      <th>9</th>\n",
       "      <td>staff 823 people</td>\n",
       "      <td>294162</td>\n",
       "    </tr>\n",
       "  </tbody>\n",
       "</table>\n",
       "</div>"
      ],
      "text/plain": [
       "                   n_grams  sum(favorite_count)\n",
       "0  crooked hillary clinton              1857328\n",
       "1       make america great              1563989\n",
       "2        make america safe               530636\n",
       "3   goofy elizabeth warren               423949\n",
       "4           lyin' ted cruz               326559\n",
       "5       america safe great               314195\n",
       "6       upand 33000 emails               294162\n",
       "7     33000 emails deleted               294162\n",
       "8        think upand 33000               294162\n",
       "9         staff 823 people               294162"
      ]
     },
     "metadata": {},
     "output_type": "display_data"
    },
    {
     "data": {
      "image/png": "[encoded data removed]",
      "text/plain": [
       "<matplotlib.figure.Figure at 0x7fe4c6593c88>"
      ]
     },
     "metadata": {
      "needs_background": "light"
     },
     "output_type": "display_data"
    }
   ],
   "source": [
    "candidate_name = input(\"Enter 'h' for Hillary Clinton and 't' for Donald Trump: \")\n",
    "n_grams = input(\"Enter the number of grams: \")\n",
    "\n",
    "ngram = NGram(n=int(n_grams), inputCol=\"words_clean\", outputCol=\"ngrams\")\n",
    "\n",
    "df_with_ngrams = ngram.transform(clean_text)\n",
    "#ngramDataFrame.select(\"ngrams\").show(truncate=False)\n",
    "\n",
    "if candidate_name == 'h':\n",
    "    ngrams_df = df_with_ngrams.filter(\"handle = 'HillaryClinton'\").withColumn('n_grams', explode('ngrams')).groupBy('n_grams').sum('favorite_count').sort('sum(favorite_count)', ascending=False)\n",
    "\n",
    "elif candidate_name == 't':\n",
    "    ngrams_df = df_with_ngrams.filter(\"handle = 'realDonaldTrump'\").withColumn('n_grams', explode('ngrams')).groupBy('n_grams').sum('favorite_count').sort('sum(favorite_count)', ascending=False)\n",
    "\n",
    "ngrams_df_plot_counts = ngrams_df.limit(10).toPandas()\n",
    "display(ngrams_df_plot_counts)\n",
    "ngrams_df_plot_counts.plot('n_grams', 'sum(favorite_count)', kind = 'bar')\n",
    "plt.show()"
   ]
  },
  {
   "cell_type": "markdown",
   "metadata": {},
   "source": [
    "## Ngrams vs Retweets"
   ]
  },
  {
   "cell_type": "code",
   "execution_count": 397,
   "metadata": {},
   "outputs": [
    {
     "name": "stdout",
     "output_type": "stream",
     "text": [
      "Enter 'h' for Hillary Clinton and 't' for Donald Trump: h\n",
      "Enter the number of grams: 4\n"
     ]
    },
    {
     "data": {
      "text/html": [
       "<div>\n",
       "<style scoped>\n",
       "    .dataframe tbody tr th:only-of-type {\n",
       "        vertical-align: middle;\n",
       "    }\n",
       "\n",
       "    .dataframe tbody tr th {\n",
       "        vertical-align: top;\n",
       "    }\n",
       "\n",
       "    .dataframe thead th {\n",
       "        text-align: right;\n",
       "    }\n",
       "</style>\n",
       "<table border=\"1\" class=\"dataframe\">\n",
       "  <thead>\n",
       "    <tr style=\"text-align: right;\">\n",
       "      <th></th>\n",
       "      <th>n_grams</th>\n",
       "      <th>sum(retweet_count)</th>\n",
       "    </tr>\n",
       "  </thead>\n",
       "  <tbody>\n",
       "    <tr>\n",
       "      <th>0</th>\n",
       "      <td>said donald trump said</td>\n",
       "      <td>91670</td>\n",
       "    </tr>\n",
       "    <tr>\n",
       "      <th>1</th>\n",
       "      <td>never said donald trump</td>\n",
       "      <td>91670</td>\n",
       "    </tr>\n",
       "    <tr>\n",
       "      <th>2</th>\n",
       "      <td>trump called miss piggy</td>\n",
       "      <td>80576</td>\n",
       "    </tr>\n",
       "    <tr>\n",
       "      <th>3</th>\n",
       "      <td>proud standing hillary tonight</td>\n",
       "      <td>80169</td>\n",
       "    </tr>\n",
       "    <tr>\n",
       "      <th>4</th>\n",
       "      <td>quits hillary next get</td>\n",
       "      <td>63628</td>\n",
       "    </tr>\n",
       "    <tr>\n",
       "      <th>5</th>\n",
       "      <td>next get twitter handle</td>\n",
       "      <td>63628</td>\n",
       "    </tr>\n",
       "    <tr>\n",
       "      <th>6</th>\n",
       "      <td>speech tested ready never</td>\n",
       "      <td>63628</td>\n",
       "    </tr>\n",
       "    <tr>\n",
       "      <th>7</th>\n",
       "      <td>tested ready never quits</td>\n",
       "      <td>63628</td>\n",
       "    </tr>\n",
       "    <tr>\n",
       "      <th>8</th>\n",
       "      <td>great speech tested ready</td>\n",
       "      <td>63628</td>\n",
       "    </tr>\n",
       "    <tr>\n",
       "      <th>9</th>\n",
       "      <td>never quits hillary next</td>\n",
       "      <td>63628</td>\n",
       "    </tr>\n",
       "  </tbody>\n",
       "</table>\n",
       "</div>"
      ],
      "text/plain": [
       "                          n_grams  sum(retweet_count)\n",
       "0          said donald trump said               91670\n",
       "1         never said donald trump               91670\n",
       "2         trump called miss piggy               80576\n",
       "3  proud standing hillary tonight               80169\n",
       "4          quits hillary next get               63628\n",
       "5         next get twitter handle               63628\n",
       "6       speech tested ready never               63628\n",
       "7        tested ready never quits               63628\n",
       "8       great speech tested ready               63628\n",
       "9        never quits hillary next               63628"
      ]
     },
     "metadata": {},
     "output_type": "display_data"
    },
    {
     "data": {
      "image/png": "[encoded data removed]",
      "text/plain": [
       "<matplotlib.figure.Figure at 0x7fe4d438f9e8>"
      ]
     },
     "metadata": {
      "needs_background": "light"
     },
     "output_type": "display_data"
    }
   ],
   "source": [
    "candidate_name = input(\"Enter 'h' for Hillary Clinton and 't' for Donald Trump: \")\n",
    "n_grams = input(\"Enter the number of grams: \")\n",
    "\n",
    "ngram = NGram(n=int(n_grams), inputCol=\"words_clean\", outputCol=\"ngrams\")\n",
    "\n",
    "df_with_ngrams = ngram.transform(clean_text)\n",
    "#ngramDataFrame.select(\"ngrams\").show(truncate=False)\n",
    "\n",
    "if candidate_name == 'h':\n",
    "    ngrams_df = df_with_ngrams.filter(\"handle = 'HillaryClinton'\").withColumn('n_grams', explode('ngrams')).groupBy('n_grams').sum('retweet_count').sort('sum(retweet_count)', ascending=False)\n",
    "\n",
    "elif candidate_name == 't':\n",
    "    ngrams_df = df_with_ngrams.filter(\"handle = 'realDonaldTrump'\").withColumn('n_grams', explode('ngrams')).groupBy('n_grams').sum('retweet_count').sort('sum(retweet_count)', ascending=False)\n",
    "\n",
    "ngrams_df_plot_counts = ngrams_df.limit(10).toPandas()\n",
    "display(ngrams_df_plot_counts)\n",
    "ngrams_df_plot_counts.plot('n_grams', 'sum(retweet_count)', kind = 'bar')\n",
    "plt.show()"
   ]
  },
  {
   "cell_type": "markdown",
   "metadata": {},
   "source": [
    "# Sentimental Analysis"
   ]
  },
  {
   "cell_type": "code",
   "execution_count": 6,
   "metadata": {},
   "outputs": [
    {
     "name": "stderr",
     "output_type": "stream",
     "text": [
      "[nltk_data] Downloading package vader_lexicon to /u4/mdib/nltk_data...\n"
     ]
    },
    {
     "data": {
      "text/plain": [
       "True"
      ]
     },
     "execution_count": 6,
     "metadata": {},
     "output_type": "execute_result"
    }
   ],
   "source": [
    "from nltk.sentiment.vader import SentimentIntensityAnalyzer\n",
    "import nltk\n",
    "nltk.download('vader_lexicon')"
   ]
  },
  {
   "cell_type": "code",
   "execution_count": 398,
   "metadata": {},
   "outputs": [],
   "source": [
    "# Function for finding the sentiment score\n",
    "def tweet_score(x):\n",
    "    analyzer = SentimentIntensityAnalyzer()\n",
    "    score = 0\n",
    "    for i in x:\n",
    "        temp = analyzer.polarity_scores(i)\n",
    "        score += temp['compound']\n",
    "        \n",
    "    return score"
   ]
  },
  {
   "cell_type": "code",
   "execution_count": 399,
   "metadata": {},
   "outputs": [],
   "source": [
    "# Function for assigning the sentiment\n",
    "def tweet_sentiment(x):\n",
    "    \n",
    "    if x > 0:\n",
    "        sentiment = 'Positive'\n",
    "    elif x == 0:\n",
    "        sentiment = 'Neutral'\n",
    "    elif x < 0:\n",
    "        sentiment = 'Negative'\n",
    "        \n",
    "    return sentiment"
   ]
  },
  {
   "cell_type": "code",
   "execution_count": null,
   "metadata": {},
   "outputs": [],
   "source": [
    "score_udf = udf(tweet_score, FloatType())\n",
    "sentiment_udf = udf(tweet_sentiment, StringType())\n",
    "\n",
    "sentiment = clean_text.withColumn(\"tweet_score\", score_udf(\"words_stem\")).withColumn(\"tweet_sentiment\", sentiment_udf(\"tweet_score\"))\n"
   ]
  },
  {
   "cell_type": "code",
   "execution_count": null,
   "metadata": {},
   "outputs": [],
   "source": [
    "sentiment.select('handle', 'text', 'tweet_score', 'tweet_sentiment').show(15, False)"
   ]
  },
  {
   "cell_type": "markdown",
   "metadata": {},
   "source": [
    "## The sentiments of Hillary's tweets"
   ]
  },
  {
   "cell_type": "code",
   "execution_count": 407,
   "metadata": {},
   "outputs": [],
   "source": [
    "sentiment_hillary = sentiment.filter(\"handle = 'HillaryClinton'\").groupBy('tweet_sentiment').count()"
   ]
  },
  {
   "cell_type": "code",
   "execution_count": 408,
   "metadata": {},
   "outputs": [
    {
     "name": "stdout",
     "output_type": "stream",
     "text": [
      "+---------------+-----+\n",
      "|tweet_sentiment|count|\n",
      "+---------------+-----+\n",
      "|       Positive| 1349|\n",
      "|        Neutral|  991|\n",
      "|       Negative|  777|\n",
      "+---------------+-----+\n",
      "\n"
     ]
    }
   ],
   "source": [
    "sentiment_hillary.show()"
   ]
  },
  {
   "cell_type": "markdown",
   "metadata": {},
   "source": [
    "## The sentiments of Trump's tweets"
   ]
  },
  {
   "cell_type": "code",
   "execution_count": 410,
   "metadata": {},
   "outputs": [],
   "source": [
    "sentiment_trump = sentiment.filter(\"handle = 'realDonaldTrump'\").groupBy('tweet_sentiment').count()"
   ]
  },
  {
   "cell_type": "code",
   "execution_count": 411,
   "metadata": {},
   "outputs": [
    {
     "name": "stdout",
     "output_type": "stream",
     "text": [
      "+---------------+-----+\n",
      "|tweet_sentiment|count|\n",
      "+---------------+-----+\n",
      "|       Positive| 1778|\n",
      "|        Neutral|  621|\n",
      "|       Negative|  732|\n",
      "+---------------+-----+\n",
      "\n"
     ]
    }
   ],
   "source": [
    "sentiment_trump.show()"
   ]
  },
  {
   "cell_type": "code",
   "execution_count": null,
   "metadata": {},
   "outputs": [],
   "source": []
  }
 ],
 "metadata": {
  "kernelspec": {
   "display_name": "Python 3",
   "language": "python",
   "name": "python3"
  },
  "language_info": {
   "codemirror_mode": {
    "name": "ipython",
    "version": 3
   },
   "file_extension": ".py",
   "mimetype": "text/x-python",
   "name": "python",
   "nbconvert_exporter": "python",
   "pygments_lexer": "ipython3",
   "version": "3.7.3"
  }
 },
 "nbformat": 4,
 "nbformat_minor": 2
}
